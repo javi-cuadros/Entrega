{
 "cells": [
  {
   "cell_type": "markdown",
   "metadata": {},
   "source": [
    "# SVM"
   ]
  },
  {
   "cell_type": "markdown",
   "metadata": {},
   "source": [
    "#### Importamos las bibliotecas necesarias"
   ]
  },
  {
   "cell_type": "code",
   "execution_count": null,
   "metadata": {},
   "outputs": [],
   "source": [
    "import pandas as pd\n",
    "import itertools\n",
    "import random\n",
    "import matplotlib.pyplot as plt\n",
    "import numpy as np\n",
    "\n",
    "from sklearn.model_selection import train_test_split\n",
    "from sklearn import svm\n",
    "from sklearn.metrics import confusion_matrix\n",
    "from sklearn.preprocessing import StandardScaler\n",
    "from sklearn.decomposition import PCA"
   ]
  },
  {
   "cell_type": "markdown",
   "metadata": {},
   "source": [
    "#### Definimos funciones auxiliares"
   ]
  },
  {
   "cell_type": "code",
   "execution_count": 7,
   "metadata": {},
   "outputs": [],
   "source": [
    "def trans_pca(X,n_components):\n",
    "    scaler = StandardScaler()\n",
    "    X = scaler.fit_transform(X)\n",
    "    pca = PCA(n_components)\n",
    "    pca.fit(X)\n",
    "    X_pca = pca.transform(X)\n",
    "    return X   \n",
    "\n",
    "def validacion_modelo(y_test,y_pred):\n",
    "    \n",
    "    cnf_matrix = confusion_matrix(y_test, y_pred)    \n",
    "    plt.imshow(cnf_matrix, interpolation='nearest', cmap=plt.cm.Oranges)\n",
    "    plt.title('Matriz de confusión')\n",
    "    tick_marks = np.arange(len(['ER+','ER-']))\n",
    "    plt.xticks(tick_marks, ['ER+','ER-'], rotation=45)\n",
    "    plt.yticks(tick_marks, ['ER+','ER-'])\n",
    "\n",
    "    fmt = 'd'\n",
    "    thresh = cnf_matrix.max() / 2.\n",
    "    for i, j in itertools.product(range(cnf_matrix.shape[0]), range(cnf_matrix.shape[1])):\n",
    "        plt.text(j, i, format(cnf_matrix[i, j], fmt),\n",
    "                 horizontalalignment=\"center\",\n",
    "                 color=\"white\" if cnf_matrix[i, j] > thresh else \"black\")\n",
    "\n",
    "    plt.tight_layout()\n",
    "    plt.ylabel('Etiqueta Real')\n",
    "    plt.xlabel('Etiqueta Predicha')\n",
    "    \n",
    "    VP = cnf_matrix[0][0]\n",
    "    VN = cnf_matrix[1][1]\n",
    "    FN = cnf_matrix[0][1]\n",
    "    FP = cnf_matrix[1][0]\n",
    "    \n",
    "    exactitud = (VP+VN)/(VP+VN+FP+FN)\n",
    "    precision = VP/(VP+FP)\n",
    "    sensibilidad = VP/(VP+FN)\n",
    "    puntaje = 2*precision*sensibilidad/(precision+sensibilidad)\n",
    "    \n",
    "    validacion = pd.DataFrame(columns=('Exactitud', 'Precisión', 'Sensibilidad', 'F1 Score'))\n",
    "    validacion.loc[len(validacion)] = [exactitud,precision,sensibilidad,puntaje]\n",
    "\n",
    "    return validacion"
   ]
  },
  {
   "cell_type": "markdown",
   "metadata": {
    "button": false,
    "new_sheet": false,
    "run_control": {
     "read_only": false
    }
   },
   "source": [
    "#### Cargamos y preparamos los datos de entrenamiento y test "
   ]
  },
  {
   "cell_type": "code",
   "execution_count": 8,
   "metadata": {},
   "outputs": [],
   "source": [
    "df_1 = pd.read_csv('D:/tfm/Medidas/Medias/350/LumA_medias.csv')\n",
    "df_2 = pd.read_csv('D:/tfm/Medidas/Medias/350/Her_medias.csv')\n",
    "df_3 = pd.read_csv('D:/tfm/Medidas/Medias/350/LumB_medias.csv')\n",
    "df_4 = pd.read_csv('D:/tfm/Medidas/Medias/350/Bas_medias.csv')\n",
    "df_1 = df_1.assign(Clase='ER+')\n",
    "df_2 = df_2.assign(Clase='ER-')\n",
    "df_3 = df_3.assign(Clase='ER+')\n",
    "df_4 = df_4.assign(Clase='ER-')\n",
    "df = df_1.app#### Cargamos y preparamos los datos de entrenamiento y test end(df_2)\n",
    "df = df.append(df_3)\n",
    "df = df.append(df_4)\n",
    "\n",
    "X = df.drop(['Clase','Image','Class'], axis=1)\n",
    "y = df['Clase']"
   ]
  },
  {
   "cell_type": "code",
   "execution_count": 9,
   "metadata": {},
   "outputs": [],
   "source": [
    "X = trans_pca(X,10)\n",
    "X_train, X_test, y_train, y_test = train_test_split( X, y, test_size=0.2, random_state=4)"
   ]
  },
  {
   "cell_type": "markdown",
   "metadata": {
    "button": false,
    "new_sheet": false,
    "run_control": {
     "read_only": false
    }
   },
   "source": [
    "#### Entrenamos y validamos el modelo"
   ]
  },
  {
   "cell_type": "code",
   "execution_count": 10,
   "metadata": {},
   "outputs": [
    {
     "data": {
      "text/html": [
       "<div>\n",
       "<style scoped>\n",
       "    .dataframe tbody tr th:only-of-type {\n",
       "        vertical-align: middle;\n",
       "    }\n",
       "\n",
       "    .dataframe tbody tr th {\n",
       "        vertical-align: top;\n",
       "    }\n",
       "\n",
       "    .dataframe thead th {\n",
       "        text-align: right;\n",
       "    }\n",
       "</style>\n",
       "<table border=\"1\" class=\"dataframe\">\n",
       "  <thead>\n",
       "    <tr style=\"text-align: right;\">\n",
       "      <th></th>\n",
       "      <th>Exactitud</th>\n",
       "      <th>Precisión</th>\n",
       "      <th>Sensibilidad</th>\n",
       "      <th>F1 Score</th>\n",
       "    </tr>\n",
       "  </thead>\n",
       "  <tbody>\n",
       "    <tr>\n",
       "      <th>0</th>\n",
       "      <td>0.8</td>\n",
       "      <td>0.763158</td>\n",
       "      <td>0.852941</td>\n",
       "      <td>0.805556</td>\n",
       "    </tr>\n",
       "  </tbody>\n",
       "</table>\n",
       "</div>"
      ],
      "text/plain": [
       "   Exactitud  Precisión  Sensibilidad  F1 Score\n",
       "0        0.8   0.763158      0.852941  0.805556"
      ]
     },
     "execution_count": 10,
     "metadata": {},
     "output_type": "execute_result"
    },
    {
     "data": {
      "image/png": "[encoded data removed]",
      "text/plain": [
       "<Figure size 432x288 with 1 Axes>"
      ]
     },
     "metadata": {
      "needs_background": "light"
     },
     "output_type": "display_data"
    }
   ],
   "source": [
    "clf = svm.SVC(kernel='linear', gamma='auto')\n",
    "clf.fit(X_train, y_train)\n",
    "y_pred = clf.predict(X_test)\n",
    "validacion=validacion_modelo(y_test,y_pred)\n",
    "validacion"
   ]
  }
 ],
 "metadata": {
  "kernelspec": {
   "display_name": "Python 3",
   "language": "python",
   "name": "python3"
  },
  "language_info": {
   "codemirror_mode": {
    "name": "ipython",
    "version": 3
   },
   "file_extension": ".py",
   "mimetype": "text/x-python",
   "name": "python",
   "nbconvert_exporter": "python",
   "pygments_lexer": "ipython3",
   "version": "3.7.3"
  }
 },
 "nbformat": 4,
 "nbformat_minor": 2
}
