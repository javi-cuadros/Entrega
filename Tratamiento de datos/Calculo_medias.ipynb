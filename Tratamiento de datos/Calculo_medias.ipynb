{
 "cells": [
  {
   "cell_type": "markdown",
   "metadata": {},
   "source": [
    "# Cálculo de los valores medios de las medidas morfológicas de cada muestra"
   ]
  },
  {
   "cell_type": "code",
   "execution_count": null,
   "metadata": {},
   "outputs": [],
   "source": [
    "import csv\n",
    "import pandas as pd\n",
    "import os"
   ]
  },
  {
   "cell_type": "code",
   "execution_count": 11,
   "metadata": {},
   "outputs": [],
   "source": [
    "tipo = 'LumB'\n",
    "ruta_Inputs = 'D:/tfm/Medidas/' + tipo + '/'\n",
    "ruta_Outputs = 'D:/tfm/Medidas/Medias/400/'"
   ]
  },
  {
   "cell_type": "code",
   "execution_count": 12,
   "metadata": {
    "scrolled": true
   },
   "outputs": [],
   "source": [
    "df = pd.read_csv('D:/tfm/Medidas/Bas/TCGA-A1-A0SK.svs_measures.csv', delimiter='\\t', index_col= False)"
   ]
  },
  {
   "cell_type": "code",
   "execution_count": 13,
   "metadata": {},
   "outputs": [],
   "source": [
    "lista_inputs = os.listdir(ruta_Inputs)\n",
    "df.head(0).groupby(['Image']).mean().to_csv(ruta_Outputs+tipo+'_medias.csv', mode=\"a\")\n",
    "for imagen in lista_inputs:\n",
    "    df = pd.read_csv(ruta_Inputs+imagen, delimiter='\\t').groupby(['Image']).mean()\n",
    "    df.to_csv(ruta_Outputs+tipo+'_medias.csv', index=['Image'], mode=\"a\", header=False)"
   ]
  }
 ],
 "metadata": {
  "kernelspec": {
   "display_name": "Python 3",
   "language": "python",
   "name": "python3"
  },
  "language_info": {
   "codemirror_mode": {
    "name": "ipython",
    "version": 3
   },
   "file_extension": ".py",
   "mimetype": "text/x-python",
   "name": "python",
   "nbconvert_exporter": "python",
   "pygments_lexer": "ipython3",
   "version": "3.7.3"
  }
 },
 "nbformat": 4,
 "nbformat_minor": 5
}
